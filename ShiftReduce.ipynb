{
 "cells": [
  {
   "cell_type": "code",
   "execution_count": 1,
   "metadata": {},
   "outputs": [
    {
     "name": "stdout",
     "output_type": "stream",
     "text": [
      "Enter the number of production rules: 1\n",
      "Enter the production rules:\n",
      "S->S+S/S*S/i\n",
      "Enter the Starting Terminal: S\n",
      "Enter the Input String: i+i*i\n",
      "\n",
      "Shift Reduce Parsing:\n",
      "\n",
      "Stack          |Input Buffer   |Parsing Action\n",
      "--------------------------------------------------\n",
      "$i             |+i*i$          |Shift\n",
      "$S             |+i*i$          |ReduceS->i\n",
      "$S+            |i*i$           |Shift\n",
      "$S+i           |*i$            |Shift\n",
      "$S+S           |*i$            |ReduceS->i\n",
      "$S             |*i$            |ReduceS->S+S\n",
      "$S*            |i$             |Shift\n",
      "$S*i           |$              |Shift\n",
      "$S*S           |$              |ReduceS->i\n",
      "$S             |$              |ReduceS->S*S\n",
      "$S             |$              |Accepted\n"
     ]
    }
   ],
   "source": [
    "from collections import defaultdict\n",
    "gram = defaultdict(list)\n",
    "npr = int(input(\"Enter the number of production rules: \"))\n",
    "print(\"Enter the production rules:\")\n",
    "\n",
    "for i in range(npr):\n",
    "    lhs,rhs = input().split(\"->\")\n",
    "    pr = rhs.split(\"/\")\n",
    "    gram[lhs].extend(pr)\n",
    "    \n",
    "starting_terminal = input(\"Enter the Starting Terminal: \")\n",
    "inp = input(\"Enter the Input String: \")\n",
    "inp = inp+\"$\"\n",
    "print(\"\\nShift Reduce Parsing:\\n\")\n",
    "stack = \"$\"\n",
    "print(f'{\"Stack\": <15}'+\"|\"+f'{\"Input Buffer\": <15}'+\"|\"+f'Parsing Action')\n",
    "print(f'{\"-\":-<50}')\n",
    "\n",
    "while True:\n",
    "    action = True\n",
    "    i = 0\n",
    "    while i<len(gram[starting_terminal]):\n",
    "        if gram[starting_terminal][i] in stack:\n",
    "            stack = stack.replace(gram[starting_terminal][i],starting_terminal)\n",
    "            print(f'{stack: <15}'+\"|\"+f'{inp: <15}'+\"|\"+f'Reduce{starting_terminal}->{gram[starting_terminal][i]}')\n",
    "            i=-1\n",
    "            action = False\n",
    "        i+=1\n",
    "    if len(inp)>1:\n",
    "        stack+=inp[0]\n",
    "        inp=inp[1:]\n",
    "        print(f'{stack: <15}'+\"|\"+f'{inp: <15}'+\"|\"+f'Shift')\n",
    "        action = False\n",
    "    if inp == \"$\" and stack == (\"$\"+starting_terminal):\n",
    "        print(f'{stack: <15}'+\"|\"+f'{inp: <15}'+\"|\"+f'Accepted')\n",
    "        break\n",
    "    if action:\n",
    "        print(f'{stack: <15}'+\"|\"+f'{inp: <15}'+\"|\"+f'Rejected')\n",
    "        break"
   ]
  },
  {
   "cell_type": "code",
   "execution_count": null,
   "metadata": {},
   "outputs": [],
   "source": []
  }
 ],
 "metadata": {
  "kernelspec": {
   "display_name": "Python 3",
   "language": "python",
   "name": "python3"
  },
  "language_info": {
   "codemirror_mode": {
    "name": "ipython",
    "version": 3
   },
   "file_extension": ".py",
   "mimetype": "text/x-python",
   "name": "python",
   "nbconvert_exporter": "python",
   "pygments_lexer": "ipython3",
   "version": "3.7.4"
  }
 },
 "nbformat": 4,
 "nbformat_minor": 2
}
