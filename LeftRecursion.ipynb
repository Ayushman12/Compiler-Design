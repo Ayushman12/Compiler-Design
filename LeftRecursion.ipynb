{
 "cells": [
  {
   "cell_type": "code",
   "execution_count": 2,
   "metadata": {},
   "outputs": [
    {
     "name": "stdout",
     "output_type": "stream",
     "text": [
      "Total number of expressions : 2\n",
      "Enter the expression : A->A+B/AB\n",
      "Enter the expression : A->A/s\n",
      "A -> ABA'\n",
      "A' -> BA'/e\n",
      "A -> sA'\n",
      "A' -> A'/e\n"
     ]
    }
   ],
   "source": [
    "n = int(input('Total number of expressions : '))\n",
    "lst = []\n",
    "while(n):\n",
    "    lst.append(input('Enter the expression : '))\n",
    "    n = n-1\n",
    "for x in lst:\n",
    "    for y in range(len(x)):\n",
    "        if x[y] == '/':\n",
    "            b = x[y+1:]\n",
    "        if x[y] == x[0]:\n",
    "            c=0\n",
    "            for z in x[y:]:\n",
    "                if z != '/':\n",
    "                    c = c+1\n",
    "                else:\n",
    "                    break\n",
    "            a = x[y+1:y+c]\n",
    "    print(x[0] + ' -> ' + b + x[0] + \"'\")\n",
    "    print(x[0] + \"'\" + \" -> \"+ a+x[0] + \"'\" + \"/\" + \"e\")"
   ]
  },
  {
   "cell_type": "code",
   "execution_count": null,
   "metadata": {},
   "outputs": [],
   "source": []
  }
 ],
 "metadata": {
  "kernelspec": {
   "display_name": "Python 3",
   "language": "python",
   "name": "python3"
  },
  "language_info": {
   "codemirror_mode": {
    "name": "ipython",
    "version": 3
   },
   "file_extension": ".py",
   "mimetype": "text/x-python",
   "name": "python",
   "nbconvert_exporter": "python",
   "pygments_lexer": "ipython3",
   "version": "3.7.4"
  }
 },
 "nbformat": 4,
 "nbformat_minor": 2
}
